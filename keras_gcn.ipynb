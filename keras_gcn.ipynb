{
 "cells": [
  {
   "cell_type": "code",
   "execution_count": 1,
   "metadata": {
    "ExecuteTime": {
     "end_time": "2019-07-05T08:37:24.768733Z",
     "start_time": "2019-07-05T08:37:23.329968Z"
    }
   },
   "outputs": [],
   "source": [
    "import os\n",
    "os.environ[\"CUDA_VISIBLE_DEVICES\"] = \"6\"\n",
    "import random\n",
    "import numpy as np\n",
    "import networkx as nx\n",
    "import scipy.sparse as sp\n",
    "import pandas as pd \n",
    "import pysnooper\n",
    "from tensorflow.python import debug as tf_debug\n",
    "import tensorflow as tf\n",
    "import tensorflow.keras.backend as K\n",
    "from tensorflow.keras.layers import Input, Dense\n",
    "from tensorflow.keras.models import Model\n",
    "\n",
    "import tensorflow.keras as keras\n",
    "from tensorflow.keras.models import Sequential\n",
    "from tensorflow.keras.layers import Dense, Dropout\n",
    "from tensorflow.keras.optimizers import SGD\n",
    "\n",
    "from tensorflow.keras.utils import plot_model"
   ]
  },
  {
   "cell_type": "code",
   "execution_count": 2,
   "metadata": {
    "ExecuteTime": {
     "end_time": "2019-07-05T08:37:26.076190Z",
     "start_time": "2019-07-05T08:37:24.771076Z"
    }
   },
   "outputs": [],
   "source": [
    "config = tf.ConfigProto() # 定义TensorFlow配置\n",
    "config.gpu_options.allow_growth = True # 配置GPU动态分配，按需增长 \n",
    "config.log_device_placement = True  # to log device placement (on which device the operation ran)\n",
    "sess = tf.Session(config=config)\n",
    "K.set_session(sess)  # set this TensorFlow session as the default session for Keras\n",
    "K.set_session(tf_debug.LocalCLIDebugWrapperSession(sess))"
   ]
  },
  {
   "cell_type": "markdown",
   "metadata": {},
   "source": [
    "## 加载数据"
   ]
  },
  {
   "cell_type": "code",
   "execution_count": 3,
   "metadata": {
    "ExecuteTime": {
     "end_time": "2019-07-05T08:37:29.340529Z",
     "start_time": "2019-07-05T08:37:26.079974Z"
    }
   },
   "outputs": [],
   "source": [
    "idx_features_labels = np.genfromtxt(\"./data/cora.content\", dtype=np.dtype(str))"
   ]
  },
  {
   "cell_type": "code",
   "execution_count": 4,
   "metadata": {
    "ExecuteTime": {
     "end_time": "2019-07-05T08:37:29.354457Z",
     "start_time": "2019-07-05T08:37:29.343014Z"
    }
   },
   "outputs": [
    {
     "data": {
      "text/plain": [
       "(2708, 1435)"
      ]
     },
     "execution_count": 4,
     "metadata": {},
     "output_type": "execute_result"
    }
   ],
   "source": [
    "idx_features_labels.shape"
   ]
  },
  {
   "cell_type": "code",
   "execution_count": 5,
   "metadata": {
    "ExecuteTime": {
     "end_time": "2019-07-05T08:37:29.365252Z",
     "start_time": "2019-07-05T08:37:29.356184Z"
    }
   },
   "outputs": [
    {
     "data": {
      "text/plain": [
       "array(['31336', '0', '0', ..., '0', '0', 'Neural_Networks'], dtype='<U22')"
      ]
     },
     "execution_count": 5,
     "metadata": {},
     "output_type": "execute_result"
    }
   ],
   "source": [
    "idx_features_labels[0]  # 即第一个是所属节点，中间部分是节点特征 最后一个是类别标签"
   ]
  },
  {
   "cell_type": "code",
   "execution_count": 6,
   "metadata": {
    "ExecuteTime": {
     "end_time": "2019-07-05T08:37:31.065514Z",
     "start_time": "2019-07-05T08:37:29.366726Z"
    }
   },
   "outputs": [],
   "source": [
    "# 未进行稀疏性压缩\n",
    "features = np.array(idx_features_labels[:, 1:-1], dtype=np.float32)"
   ]
  },
  {
   "cell_type": "code",
   "execution_count": 7,
   "metadata": {
    "ExecuteTime": {
     "end_time": "2019-07-05T08:37:31.077523Z",
     "start_time": "2019-07-05T08:37:31.067661Z"
    }
   },
   "outputs": [
    {
     "data": {
      "text/plain": [
       "(2708, 1433)"
      ]
     },
     "execution_count": 7,
     "metadata": {},
     "output_type": "execute_result"
    }
   ],
   "source": [
    "features.shape  # 节点特征"
   ]
  },
  {
   "cell_type": "markdown",
   "metadata": {},
   "source": [
    "### 提取标签，并转化为数组"
   ]
  },
  {
   "cell_type": "code",
   "execution_count": 8,
   "metadata": {
    "ExecuteTime": {
     "end_time": "2019-07-05T08:37:31.097631Z",
     "start_time": "2019-07-05T08:37:31.080654Z"
    }
   },
   "outputs": [],
   "source": [
    "# 提取样本的标签，并将其转换为one-hot编码形式\n",
    "def encode_label(labels):\n",
    "    classes = set(labels)\n",
    "    # 生成class对应的向量的字典\n",
    "    classes_dict = {c: np.eye(len(classes))[index, :] for index, c in enumerate(classes)}\n",
    "    # 生成向量\n",
    "    label_onehot = np.array(list(map(classes_dict.get, labels)), dtype=np.int32)\n",
    "    return label_onehot, classes_dict\n",
    "labels_list = idx_features_labels[:, -1]\n",
    "labels, labels_class = encode_label(labels_list)"
   ]
  },
  {
   "cell_type": "code",
   "execution_count": 9,
   "metadata": {
    "ExecuteTime": {
     "end_time": "2019-07-05T08:37:31.109883Z",
     "start_time": "2019-07-05T08:37:31.100847Z"
    }
   },
   "outputs": [
    {
     "data": {
      "text/plain": [
       "((2708, 7),\n",
       " {'Case_Based': array([0., 0., 1., 0., 0., 0., 0.]),\n",
       "  'Genetic_Algorithms': array([0., 0., 0., 1., 0., 0., 0.]),\n",
       "  'Neural_Networks': array([0., 0., 0., 0., 0., 1., 0.]),\n",
       "  'Probabilistic_Methods': array([0., 0., 0., 0., 0., 0., 1.]),\n",
       "  'Reinforcement_Learning': array([0., 0., 0., 0., 1., 0., 0.]),\n",
       "  'Rule_Learning': array([0., 1., 0., 0., 0., 0., 0.]),\n",
       "  'Theory': array([1., 0., 0., 0., 0., 0., 0.])})"
      ]
     },
     "execution_count": 9,
     "metadata": {},
     "output_type": "execute_result"
    }
   ],
   "source": [
    "labels.shape, labels_class"
   ]
  },
  {
   "cell_type": "markdown",
   "metadata": {},
   "source": [
    "### 获取节点，生成节点和索引的字典表"
   ]
  },
  {
   "cell_type": "code",
   "execution_count": 10,
   "metadata": {
    "ExecuteTime": {
     "end_time": "2019-07-05T08:37:31.122486Z",
     "start_time": "2019-07-05T08:37:31.111641Z"
    }
   },
   "outputs": [
    {
     "name": "stdout",
     "output_type": "stream",
     "text": [
      "\n",
      "节点数: 2708\n"
     ]
    }
   ],
   "source": [
    "idx = np.array(idx_features_labels[:, 0], dtype=np.int32)\n",
    "print('\\n节点数:',len(idx))"
   ]
  },
  {
   "cell_type": "code",
   "execution_count": 11,
   "metadata": {
    "ExecuteTime": {
     "end_time": "2019-07-05T08:37:31.132496Z",
     "start_time": "2019-07-05T08:37:31.124685Z"
    }
   },
   "outputs": [],
   "source": [
    "# 生成节点和索引的字典\n",
    "idx_map = {node: index for index, node in enumerate(idx)}"
   ]
  },
  {
   "cell_type": "code",
   "execution_count": 12,
   "metadata": {
    "ExecuteTime": {
     "end_time": "2019-07-05T08:37:31.145872Z",
     "start_time": "2019-07-05T08:37:31.135098Z"
    }
   },
   "outputs": [
    {
     "name": "stdout",
     "output_type": "stream",
     "text": [
      "851968 : 1211\n",
      "1155073 : 1686\n",
      "249858 : 20\n",
      "77829 : 825\n",
      "102406 : 1181\n"
     ]
    }
   ],
   "source": [
    "i = 0 \n",
    "for node, id_ in idx_map.items():\n",
    "    i = i + 1\n",
    "    if i > 5:\n",
    "        break \n",
    "    print(node,\":\", id_)"
   ]
  },
  {
   "cell_type": "markdown",
   "metadata": {},
   "source": [
    "### 读取节点之间的关系"
   ]
  },
  {
   "cell_type": "code",
   "execution_count": 13,
   "metadata": {
    "ExecuteTime": {
     "end_time": "2019-07-05T08:37:31.341444Z",
     "start_time": "2019-07-05T08:37:31.147911Z"
    }
   },
   "outputs": [],
   "source": [
    "# 读取node之间的关系\n",
    "edges_unordered = np.genfromtxt(\"./data/cora.cites\", dtype=np.int32)"
   ]
  },
  {
   "cell_type": "code",
   "execution_count": 14,
   "metadata": {
    "ExecuteTime": {
     "end_time": "2019-07-05T08:37:31.349724Z",
     "start_time": "2019-07-05T08:37:31.343659Z"
    }
   },
   "outputs": [
    {
     "data": {
      "text/plain": [
       "(5429, 2)"
      ]
     },
     "execution_count": 14,
     "metadata": {},
     "output_type": "execute_result"
    }
   ],
   "source": [
    "edges_unordered.shape"
   ]
  },
  {
   "cell_type": "code",
   "execution_count": 15,
   "metadata": {
    "ExecuteTime": {
     "end_time": "2019-07-05T08:37:31.362758Z",
     "start_time": "2019-07-05T08:37:31.351364Z"
    }
   },
   "outputs": [],
   "source": [
    "# 将节点映射到对应的索引\n",
    "edges = np.array(list(map(idx_map.get, edges_unordered.flatten())), dtype=np.int32).reshape(edges_unordered.shape)"
   ]
  },
  {
   "cell_type": "code",
   "execution_count": 16,
   "metadata": {
    "ExecuteTime": {
     "end_time": "2019-07-05T08:37:31.374116Z",
     "start_time": "2019-07-05T08:37:31.365104Z"
    }
   },
   "outputs": [
    {
     "data": {
      "text/plain": [
       "(5429, 2)"
      ]
     },
     "execution_count": 16,
     "metadata": {},
     "output_type": "execute_result"
    }
   ],
   "source": [
    "edges.shape # 变的条数"
   ]
  },
  {
   "cell_type": "code",
   "execution_count": 17,
   "metadata": {
    "ExecuteTime": {
     "end_time": "2019-07-05T08:37:31.385365Z",
     "start_time": "2019-07-05T08:37:31.376377Z"
    }
   },
   "outputs": [
    {
     "data": {
      "text/plain": [
       "array([[ 163,  402],\n",
       "       [ 163,  659],\n",
       "       [ 163, 1696],\n",
       "       [ 163, 2295],\n",
       "       [ 163, 1274],\n",
       "       [ 163, 1286],\n",
       "       [ 163, 1544],\n",
       "       [ 163, 2600],\n",
       "       [ 163, 2363],\n",
       "       [ 163, 1905]], dtype=int32)"
      ]
     },
     "execution_count": 17,
     "metadata": {},
     "output_type": "execute_result"
    }
   ],
   "source": [
    "edges[:10]"
   ]
  },
  {
   "cell_type": "markdown",
   "metadata": {},
   "source": [
    "### 构建邻接矩阵"
   ]
  },
  {
   "cell_type": "code",
   "execution_count": 18,
   "metadata": {
    "ExecuteTime": {
     "end_time": "2019-07-05T08:37:31.396040Z",
     "start_time": "2019-07-05T08:37:31.387504Z"
    }
   },
   "outputs": [
    {
     "data": {
      "text/plain": [
       "(2708, 2708)"
      ]
     },
     "execution_count": 18,
     "metadata": {},
     "output_type": "execute_result"
    }
   ],
   "source": [
    "adj = np.zeros((labels.shape[0], labels.shape[0]))\n",
    "adj.shape"
   ]
  },
  {
   "cell_type": "code",
   "execution_count": 19,
   "metadata": {
    "ExecuteTime": {
     "end_time": "2019-07-05T08:37:31.416964Z",
     "start_time": "2019-07-05T08:37:31.398241Z"
    }
   },
   "outputs": [],
   "source": [
    "for edge in edges:\n",
    "    adj[edge[0], edge[1]] = 1."
   ]
  },
  {
   "cell_type": "code",
   "execution_count": 20,
   "metadata": {
    "ExecuteTime": {
     "end_time": "2019-07-05T08:37:31.428534Z",
     "start_time": "2019-07-05T08:37:31.418946Z"
    }
   },
   "outputs": [
    {
     "data": {
      "text/plain": [
       "array([[0., 0., 0., ..., 0., 0., 0.],\n",
       "       [0., 0., 0., ..., 0., 0., 0.],\n",
       "       [0., 0., 0., ..., 0., 0., 0.],\n",
       "       ...,\n",
       "       [0., 0., 0., ..., 0., 0., 0.],\n",
       "       [0., 0., 0., ..., 0., 0., 0.],\n",
       "       [0., 0., 0., ..., 0., 0., 0.]])"
      ]
     },
     "execution_count": 20,
     "metadata": {},
     "output_type": "execute_result"
    }
   ],
   "source": [
    "adj"
   ]
  },
  {
   "cell_type": "code",
   "execution_count": 21,
   "metadata": {
    "ExecuteTime": {
     "end_time": "2019-07-05T08:37:31.534402Z",
     "start_time": "2019-07-05T08:37:31.430523Z"
    }
   },
   "outputs": [],
   "source": [
    "# 生成对称矩阵\n",
    "adj = adj + adj.T  - np.diagflat(np.diag(adj))"
   ]
  },
  {
   "cell_type": "code",
   "execution_count": 22,
   "metadata": {
    "ExecuteTime": {
     "end_time": "2019-07-05T08:37:31.540699Z",
     "start_time": "2019-07-05T08:37:31.536514Z"
    }
   },
   "outputs": [
    {
     "name": "stdout",
     "output_type": "stream",
     "text": [
      "Dataset has 2708 nodes, 5429 edges, 1433 features.\n"
     ]
    }
   ],
   "source": [
    "print('Dataset has {} nodes, {} edges, {} features.'.format(adj.shape[0], edges.shape[0], features.shape[1]))"
   ]
  },
  {
   "cell_type": "code",
   "execution_count": 23,
   "metadata": {
    "ExecuteTime": {
     "end_time": "2019-07-05T08:37:31.549424Z",
     "start_time": "2019-07-05T08:37:31.544439Z"
    }
   },
   "outputs": [],
   "source": [
    "X = features\n",
    "A = adj\n",
    "y = labels"
   ]
  },
  {
   "cell_type": "code",
   "execution_count": 24,
   "metadata": {
    "ExecuteTime": {
     "end_time": "2019-07-05T08:37:31.561221Z",
     "start_time": "2019-07-05T08:37:31.551438Z"
    }
   },
   "outputs": [
    {
     "data": {
      "text/plain": [
       "((2708, 1433), (2708, 2708), (2708, 7))"
      ]
     },
     "execution_count": 24,
     "metadata": {},
     "output_type": "execute_result"
    }
   ],
   "source": [
    "X.shape, A.shape, y.shape"
   ]
  },
  {
   "cell_type": "code",
   "execution_count": 25,
   "metadata": {
    "ExecuteTime": {
     "end_time": "2019-07-05T08:37:31.571122Z",
     "start_time": "2019-07-05T08:37:31.563250Z"
    }
   },
   "outputs": [],
   "source": [
    "# 划分训练集和测试集\n",
    "# 划分label\n",
    "def get_splits(y):\n",
    "    idx_train = range(140)\n",
    "    idx_val = range(200, 500)\n",
    "    idx_test = range(500, 1500)\n",
    "    y_train = np.zeros(y.shape, dtype=np.int32)\n",
    "    y_val = np.zeros(y.shape, dtype=np.int32)\n",
    "    y_test = np.zeros(y.shape, dtype=np.int32)\n",
    "    y_train[idx_train] = y[idx_train]\n",
    "    y_val[idx_val] = y[idx_val]\n",
    "    y_test[idx_test] = y[idx_test]\n",
    "    \n",
    "    mask = np.zeros(y.shape[0])  # 2708\n",
    "    mask[idx_train] = 1\n",
    "    # 训练数据的样本掩码\n",
    "    train_mask = np.array(mask, dtype=np.bool)\n",
    "    \n",
    "    return y_train, y_val, y_test, idx_train, idx_val, idx_test, train_mask"
   ]
  },
  {
   "cell_type": "code",
   "execution_count": 26,
   "metadata": {
    "ExecuteTime": {
     "end_time": "2019-07-05T08:37:31.581947Z",
     "start_time": "2019-07-05T08:37:31.572789Z"
    }
   },
   "outputs": [],
   "source": [
    "y_train, y_val, y_test, idx_train, idx_val, idx_test, train_mask = get_splits(y)"
   ]
  },
  {
   "cell_type": "code",
   "execution_count": 27,
   "metadata": {
    "ExecuteTime": {
     "end_time": "2019-07-05T08:37:31.607440Z",
     "start_time": "2019-07-05T08:37:31.583999Z"
    }
   },
   "outputs": [
    {
     "data": {
      "text/plain": [
       "((2708, 7), 140)"
      ]
     },
     "execution_count": 27,
     "metadata": {},
     "output_type": "execute_result"
    }
   ],
   "source": [
    "y_train.shape, sum(train_mask)"
   ]
  },
  {
   "cell_type": "markdown",
   "metadata": {},
   "source": [
    "### 对特征进行归一化"
   ]
  },
  {
   "cell_type": "code",
   "execution_count": 28,
   "metadata": {
    "ExecuteTime": {
     "end_time": "2019-07-05T08:37:31.621879Z",
     "start_time": "2019-07-05T08:37:31.609704Z"
    }
   },
   "outputs": [],
   "source": [
    "# 对特征进行归一化\n",
    "X = X / np.sum(X, axis=1).reshape((-1, 1))"
   ]
  },
  {
   "cell_type": "markdown",
   "metadata": {
    "ExecuteTime": {
     "end_time": "2019-07-05T04:51:08.922434Z",
     "start_time": "2019-07-05T04:51:08.901703Z"
    }
   },
   "source": [
    "### 对邻接矩阵的处理"
   ]
  },
  {
   "cell_type": "markdown",
   "metadata": {},
   "source": [
    "#### filter为局部池化/切比雪夫"
   ]
  },
  {
   "cell_type": "code",
   "execution_count": 29,
   "metadata": {
    "ExecuteTime": {
     "end_time": "2019-07-05T08:37:31.629931Z",
     "start_time": "2019-07-05T08:37:31.623942Z"
    }
   },
   "outputs": [],
   "source": [
    "def normalize_adj(adj, symmetric=True):\n",
    "    \"\"\"\n",
    "    对邻接矩阵进行归一化处理\n",
    "    :param adj: 邻接矩阵(密集矩阵)\n",
    "    :param symmetric: 是否对称\n",
    "    :return: 归一化后的邻接矩阵\n",
    "    \"\"\"\n",
    "    # 如果邻接矩阵为对称矩阵，得到对称归一化邻接矩阵\n",
    "    # D^(-1/2) * A * D^(-1/2)\n",
    "    if symmetric:\n",
    "        # 得到度矩阵\n",
    "        D = np.sum(adj, axis=1)\n",
    "        # 然后取根号\n",
    "        D = np.power(D, -1/2) \n",
    "        # 生成对角矩阵\n",
    "        D = np.diagflat(D.flatten(), 0) # 主对角线\n",
    "        print(\"对角矩阵:\\n\", D)\n",
    "        #  D^(-1/2) * A * D^(-1/2)\n",
    "        a_norm = D * adj * D\n",
    "    else:\n",
    "        # 如果邻接矩阵不是对称矩阵，得到随机游走正则化拉普拉斯算子\n",
    "        # D^(-1) * A\n",
    "        D = np.diagflat(np.power(np.sum(adj, axis=1), -1).flatten(), 0) # 主对角线\n",
    "        a_norm = D * adj\n",
    "    return a_norm"
   ]
  },
  {
   "cell_type": "code",
   "execution_count": 30,
   "metadata": {
    "ExecuteTime": {
     "end_time": "2019-07-05T08:37:32.007605Z",
     "start_time": "2019-07-05T08:37:31.631503Z"
    }
   },
   "outputs": [
    {
     "name": "stdout",
     "output_type": "stream",
     "text": [
      "对角矩阵:\n",
      " [[0.4472136  0.         0.         ... 0.         0.         0.        ]\n",
      " [0.         1.         0.         ... 0.         0.         0.        ]\n",
      " [0.         0.         0.5        ... 0.         0.         0.        ]\n",
      " ...\n",
      " [0.         0.         0.         ... 0.5        0.         0.        ]\n",
      " [0.         0.         0.         ... 0.         0.5        0.        ]\n",
      " [0.         0.         0.         ... 0.         0.         0.57735027]]\n"
     ]
    }
   ],
   "source": [
    "# 过滤器\n",
    "FILTER = 'chebyshev'  # 'chebyshev'两种滤波器\n",
    "# 是否对称正则化\n",
    "SYM_NORM = True  # symmetric (True) vs. left-only (False) normalization\n",
    "# 多项式的最大阶数\n",
    "MAX_DEGREE = 2  # maximum polynomial degree\n",
    "\n",
    "# 当过滤器为局部池化过滤器时\n",
    "if FILTER == \"localpool\":\n",
    "    # 加入自连接的邻接矩阵, 在邻接矩阵中加入自连接(因为自身信息很重要)\n",
    "    A = A + np.eye(A.shape[0])\n",
    "    # 对加入自连接的邻接矩阵进行对称归一化处理\n",
    "    A_norm = normalize_adj(A, symmetric=SYM_NORM) # 对应传播规则\n",
    "    support = 1 # 只考虑一阶情况\n",
    "    \n",
    "    # 特征矩阵和邻接矩阵\n",
    "    graph = [X, A_norm]\n",
    "#     G = [keras.layers.Input(shape=(None,))]\n",
    "#     G = [keras.layers.Input(shape=(None, None),)]\n",
    "    \n",
    "    \n",
    "# 当过滤器为切比雪夫多项式时\n",
    "elif FILTER == \"chebyshev\":\n",
    "    # 对拉普拉斯矩阵进行归一化处理，得到对称规范化的拉普拉斯矩阵\n",
    "    # 对称归一化的邻接矩阵\n",
    "    A_norm = normalize_adj(A, symmetric=True)\n",
    "    # 得到图拉普拉斯矩阵，L = I - D ^ (-1/2) * A * D ^ (-1/2)\n",
    "    laplacian = np.eye(A_norm.shape[0]) - A_norm\n",
    "    # 重新调整对称归一化的图拉普拉斯矩阵，得到其简化版本\n",
    "    try:\n",
    "        # 计算对称归一化图拉普拉斯矩阵的最大特征值\n",
    "        largest_eigenvalues = sp.linalg.eigsh(laplacian, k=1, which=\"LM\", return_eigenvectors=False)[0]\n",
    "    # 如果计算过程不收敛\n",
    "    # 特征值的范围不超过2\n",
    "    except Exception as e:\n",
    "        largest_eigenvalues = 2\n",
    "    \n",
    "    # 调整后的对称归一化图拉普拉斯矩阵，L~ = 2 / Lambda * L - I\n",
    "    rescaled_laplacian = (2./largest_eigenvalues)*laplacian - np.eye(laplacian.shape[0])\n",
    "    \n",
    "    # 生成k阶chebyshev不等式\n",
    "    T_k = []\n",
    "    T_k.append(np.eye(rescaled_laplacian.shape[0])) # T(0) = 1\n",
    "    T_k.append(rescaled_laplacian)  # T(1) = x\n",
    "    def chebyshev_recurrence(T_k_minus_one, T_k_minus_two, rescaled_laplacian):\n",
    "        \"\"\"\n",
    "        定义切比雪夫递归公式  2 * x * T(k-1)(x) - T(k-2)(x), T(0) = 1, T(1) = x\n",
    "        :param T_k_minus_one: T(k-1)(X)\n",
    "        :param T_k_minus_two: T(k-2)(X)\n",
    "        :param X: X\n",
    "        :return: Tk(X)\n",
    "        \"\"\"\n",
    "        # 递归公式：Tk(X) = 2X * T(k-1)(X) - T(k-2)(X)\n",
    "        return 2 * rescaled_laplacian * T_k_minus_one - T_k_minus_two\n",
    "    \n",
    "    for i in range(2, MAX_DEGREE + 1):\n",
    "        T_k.append(chebyshev_recurrence(T_k[-1], T_k[-2], rescaled_laplacian))\n",
    "        \n",
    "    support = MAX_DEGREE + 1\n",
    "    graph = [X] + T_k\n",
    "#     G = [keras.layers.Input(shape=(rescaled_laplacian.shape[0],)) for _ in range(support)]\n",
    "#     G = [keras.layers.Input(shape=(None, None)) for _ in range(support)]\n",
    "    \n",
    "else:\n",
    "    raise Exception('Invalid filter type.')"
   ]
  },
  {
   "cell_type": "code",
   "execution_count": 31,
   "metadata": {
    "ExecuteTime": {
     "end_time": "2019-07-05T08:37:32.016138Z",
     "start_time": "2019-07-05T08:37:32.010504Z"
    }
   },
   "outputs": [
    {
     "name": "stdout",
     "output_type": "stream",
     "text": [
      "[(2708, 1433), (2708, 2708), (2708, 2708), (2708, 2708)]\n"
     ]
    },
    {
     "data": {
      "text/plain": [
       "(4, None)"
      ]
     },
     "execution_count": 31,
     "metadata": {},
     "output_type": "execute_result"
    }
   ],
   "source": [
    "len(graph), print([x.shape for x in graph])"
   ]
  },
  {
   "cell_type": "markdown",
   "metadata": {},
   "source": [
    "### 构建模型"
   ]
  },
  {
   "cell_type": "code",
   "execution_count": 32,
   "metadata": {
    "ExecuteTime": {
     "end_time": "2019-07-05T08:37:32.026116Z",
     "start_time": "2019-07-05T08:37:32.017815Z"
    }
   },
   "outputs": [
    {
     "data": {
      "text/plain": [
       "(2708, 2708)"
      ]
     },
     "execution_count": 32,
     "metadata": {},
     "output_type": "execute_result"
    }
   ],
   "source": [
    "T_k[0].shape"
   ]
  },
  {
   "cell_type": "code",
   "execution_count": 69,
   "metadata": {
    "ExecuteTime": {
     "end_time": "2019-07-05T10:02:42.710153Z",
     "start_time": "2019-07-05T10:02:42.683187Z"
    }
   },
   "outputs": [],
   "source": [
    "# 定义基础的图卷积类\n",
    "class GCN(keras.layers.Layer):\n",
    "    def __init__(self,\n",
    "                 units,\n",
    "                 supports=1,        # 支持多图(input = [feature][adj[i]])\n",
    "                 activation=None,   # 激活函数\n",
    "                 use_bias=True,     # 如果存在偏置\n",
    "                 kernel_initializer=\"glorot_uniform\",\n",
    "                 bias_initializer=\"zeros\",\n",
    "                 kernel_regularizer=None,\n",
    "                 bias_regularizer=None,\n",
    "                 kernel_constraint=None,\n",
    "                 bias_constraint=None,\n",
    "                 **kwargs):\n",
    "        super(GCN, self).__init__(**kwargs)\n",
    "\n",
    "        self.units = units  # 输出单元数\n",
    "        self.activation = keras.activations.get(activation)\n",
    "        self.use_bias = use_bias    # 输出是否增加偏置函数\n",
    "\n",
    "        self.kernel_initializer = keras.initializers.get(kernel_initializer)\n",
    "        self.bias_initializer = keras.initializers.get(bias_initializer)\n",
    "\n",
    "        self.kernel_regularizer = keras.regularizers.get(kernel_regularizer)\n",
    "        self.bias_regularizer = keras.regularizers.get(bias_regularizer)\n",
    "\n",
    "        self.kernel_constraint = keras.constraints.get(kernel_constraint)\n",
    "        self.bias_constraint = keras.constraints.get(bias_constraint)\n",
    "\n",
    "        self.supports_masking = True    # 是否支持masking操作\n",
    "        self.supports = supports    # 多个图\n",
    "\n",
    "        assert self.supports >= 1   # 图的个数大于1(即邻接矩阵个数大于1)\n",
    "\n",
    "\n",
    "    def build(self, input_shape):\n",
    "        \"\"\"定义层中的参数\n",
    "        Y = GraphConvolution(y.shape[1], support, activation='softmax')([H] + G)\n",
    "        :param input_shape: 输入张量的形状\n",
    "        :return:\n",
    "        \"\"\"\n",
    "        print(input_shape)\n",
    "        features_shape = tf.TensorShape(input_shape[0]).as_list()\n",
    "        assert len(features_shape) == 2     # (batch_size, feature_dim)\n",
    "\n",
    "        # 特征维度\n",
    "        input_dim = features_shape[1]\n",
    "        self.kernel = self.add_weight(shape=(input_dim * self.supports, self.units),\n",
    "                                      initializer=self.kernel_initializer,\n",
    "                                      name=\"kernel\",\n",
    "                                      regularizer=self.kernel_regularizer,\n",
    "                                      constraint=self.kernel_constraint)\n",
    "        if self.use_bias:\n",
    "            self.bias = self.add_weight(shape=(self.units,),\n",
    "                                        initializer=self.bias_initializer,\n",
    "                                        name=\"bias\",\n",
    "                                        regularizer=self.bias_regularizer,\n",
    "                                        constraint=self.bias_constraint)\n",
    "        else:\n",
    "            self.bias = None\n",
    "\n",
    "        self.built = True\n",
    "\n",
    "    def call(self, inputs, mask=None):\n",
    "        \"\"\"编写层的功能逻辑\n",
    "        Y = GraphConvolution(y.shape[1], support, activation='softmax')([H] + G)\n",
    "        \"\"\"\n",
    "        # 输入的是隐层的feature和邻接矩阵list\n",
    "        features = inputs[0]    # (2708, 1433)  => (node_num, feature_dim)\n",
    "        A = inputs[1:]      # 对称归一化的邻接矩阵    [(2708, 2708), ...] => [(node_num, node_num), ...]\n",
    "\n",
    "        # 多个图的情况\n",
    "        supports = []\n",
    "        for i in range(self.supports):\n",
    "            supports.append(K.dot(A[i], features))   # (node_num, node_num) * (node_num, feature_dim) => (node_num, feature_dim)\n",
    "\n",
    "        # 将多个图的结果拼接起来\n",
    "        supports = K.concatenate(supports, axis=1)      # (node_num, feature_dim * self.supports)\n",
    "        outputs = K.dot(supports, self.kernel)\n",
    "        if self.use_bias:\n",
    "            outputs = outputs + self.bias\n",
    "        print(\"self.activation(outputs):\", self.activation(outputs))\n",
    "        return self.activation(outputs)\n",
    "\n",
    "    def compute_output_shape(self, input_shape):\n",
    "        return input_shape[0][0], self.units"
   ]
  },
  {
   "cell_type": "code",
   "execution_count": 70,
   "metadata": {
    "ExecuteTime": {
     "end_time": "2019-07-05T10:02:43.405954Z",
     "start_time": "2019-07-05T10:02:43.399157Z"
    }
   },
   "outputs": [
    {
     "data": {
      "text/plain": [
       "((2708, 1433), (2708, 2708), (2708, 7))"
      ]
     },
     "execution_count": 70,
     "metadata": {},
     "output_type": "execute_result"
    }
   ],
   "source": [
    "X.shape, A.shape, y.shape"
   ]
  },
  {
   "cell_type": "code",
   "execution_count": 71,
   "metadata": {
    "ExecuteTime": {
     "end_time": "2019-07-05T10:02:43.994376Z",
     "start_time": "2019-07-05T10:02:43.988135Z"
    }
   },
   "outputs": [
    {
     "data": {
      "text/plain": [
       "3"
      ]
     },
     "execution_count": 71,
     "metadata": {},
     "output_type": "execute_result"
    }
   ],
   "source": [
    "support"
   ]
  },
  {
   "cell_type": "code",
   "execution_count": 72,
   "metadata": {
    "ExecuteTime": {
     "end_time": "2019-07-05T10:02:44.905059Z",
     "start_time": "2019-07-05T10:02:44.898942Z"
    }
   },
   "outputs": [
    {
     "data": {
      "text/plain": [
       "(2708, 2708)"
      ]
     },
     "execution_count": 72,
     "metadata": {},
     "output_type": "execute_result"
    }
   ],
   "source": [
    "rescaled_laplacian.shape"
   ]
  },
  {
   "cell_type": "code",
   "execution_count": 75,
   "metadata": {
    "ExecuteTime": {
     "end_time": "2019-07-05T10:06:44.660689Z",
     "start_time": "2019-07-05T10:06:44.515851Z"
    }
   },
   "outputs": [
    {
     "name": "stdout",
     "output_type": "stream",
     "text": [
      "[TensorShape([Dimension(None), Dimension(1433)]), TensorShape([Dimension(None), Dimension(2708)]), TensorShape([Dimension(None), Dimension(2708)]), TensorShape([Dimension(None), Dimension(2708)])]\n",
      "self.activation(outputs): Tensor(\"gcn_27/Relu:0\", shape=(?, 16), dtype=float32)\n",
      "[TensorShape([Dimension(None), Dimension(16)]), TensorShape([Dimension(None), Dimension(2708)]), TensorShape([Dimension(None), Dimension(2708)]), TensorShape([Dimension(None), Dimension(2708)])]\n",
      "self.activation(outputs): Tensor(\"gcn_28/Softmax:0\", shape=(?, 7), dtype=float32)\n"
     ]
    }
   ],
   "source": [
    "# 构建model\n",
    "X_in = keras.layers.Input(shape=(X.shape[1],))\n",
    "G = [keras.layers.Input(shape=(rescaled_laplacian.shape[0],)) for _ in range(support)]\n",
    "x = X_in\n",
    "H = keras.layers.Dropout(0.5)(x)\n",
    "H = GCN(16, support, activation=\"relu\", kernel_regularizer=keras.regularizers.l2(5e-4))([H] + G)\n",
    "D = keras.layers.Dropout(0.5)(H)\n",
    "D = keras.layers.Reshape((16,))(D)\n",
    "Y = GCN(y.shape[1], support, activation=\"softmax\")([D] + G)\n",
    "Y = keras.layers.Reshape((7,))(Y)\n",
    "# 编译模型\n",
    "model = keras.models.Model(inputs=[X_in]+G,outputs=Y)"
   ]
  },
  {
   "cell_type": "code",
   "execution_count": 76,
   "metadata": {
    "ExecuteTime": {
     "end_time": "2019-07-05T10:06:46.626904Z",
     "start_time": "2019-07-05T10:06:46.508771Z"
    },
    "scrolled": true
   },
   "outputs": [],
   "source": [
    "model.compile(loss='categorical_crossentropy', optimizer=\"sgd\")"
   ]
  },
  {
   "cell_type": "code",
   "execution_count": 77,
   "metadata": {
    "ExecuteTime": {
     "end_time": "2019-07-05T10:09:10.920677Z",
     "start_time": "2019-07-05T10:07:46.455530Z"
    }
   },
   "outputs": [
    {
     "name": "stdout",
     "output_type": "stream",
     "text": [
      "Epoch 1/350\n"
     ]
    },
    {
     "name": "stderr",
     "output_type": "stream",
     "text": [
      "\n",
      "tfdbg: caught SIGINT; calling sys.exit(1).\n"
     ]
    },
    {
     "ename": "SystemExit",
     "evalue": "1",
     "output_type": "error",
     "traceback": [
      "An exception has occurred, use %tb to see the full traceback.\n",
      "\u001b[0;31mSystemExit\u001b[0m\u001b[0;31m:\u001b[0m 1\n"
     ]
    },
    {
     "name": "stderr",
     "output_type": "stream",
     "text": [
      "/home/wangwei/miniconda3/envs/tf3/lib/python3.5/site-packages/IPython/core/interactiveshell.py:3304: UserWarning: To exit: use 'exit', 'quit', or Ctrl-D.\n",
      "  warn(\"To exit: use 'exit', 'quit', or Ctrl-D.\", stacklevel=1)\n"
     ]
    }
   ],
   "source": [
    "model.fit(graph, y_train,sample_weight=train_mask,\n",
    "          batch_size=A.shape[0],epochs=350,shuffle=False,\n",
    "          callbacks=[keras.callbacks.EarlyStopping(monitor='val_loss',min_delta=1e-2, patience=10,verbose=1)])"
   ]
  },
  {
   "cell_type": "code",
   "execution_count": null,
   "metadata": {},
   "outputs": [],
   "source": []
  }
 ],
 "metadata": {
  "kernelspec": {
   "display_name": "Python 3",
   "language": "python",
   "name": "python3"
  },
  "language_info": {
   "codemirror_mode": {
    "name": "ipython",
    "version": 3
   },
   "file_extension": ".py",
   "mimetype": "text/x-python",
   "name": "python",
   "nbconvert_exporter": "python",
   "pygments_lexer": "ipython3",
   "version": "3.5.6"
  },
  "toc": {
   "base_numbering": 1,
   "nav_menu": {},
   "number_sections": true,
   "sideBar": true,
   "skip_h1_title": false,
   "title_cell": "Table of Contents",
   "title_sidebar": "Contents",
   "toc_cell": false,
   "toc_position": {
    "height": "calc(100% - 180px)",
    "left": "10px",
    "top": "150px",
    "width": "284px"
   },
   "toc_section_display": true,
   "toc_window_display": true
  }
 },
 "nbformat": 4,
 "nbformat_minor": 2
}
