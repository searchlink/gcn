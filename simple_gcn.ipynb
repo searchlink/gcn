{
 "cells": [
  {
   "cell_type": "code",
   "execution_count": 1,
   "metadata": {
    "ExecuteTime": {
     "end_time": "2019-07-05T00:37:42.587052Z",
     "start_time": "2019-07-05T00:37:41.206818Z"
    }
   },
   "outputs": [],
   "source": [
    "import os\n",
    "os.environ[\"CUDA_VISIBLE_DEVICES\"] = \"5\"\n",
    "import numpy as np\n",
    "import tensorflow as tf\n",
    "import tensorflow.keras as keras\n",
    "import tensorflow.keras.backend as K"
   ]
  },
  {
   "cell_type": "code",
   "execution_count": 2,
   "metadata": {
    "ExecuteTime": {
     "end_time": "2019-07-05T00:37:43.444050Z",
     "start_time": "2019-07-05T00:37:42.589723Z"
    }
   },
   "outputs": [],
   "source": [
    "config = tf.ConfigProto() # 定义TensorFlow配置\n",
    "config.gpu_options.allow_growth = True # 配置GPU动态分配，按需增长 \n",
    "config.log_device_placement = True  # to log device placement (on which device the operation ran)\n",
    "sess = tf.Session(config=config)\n",
    "K.set_session(sess)  # set this TensorFlow session as the default session for Keras"
   ]
  },
  {
   "cell_type": "code",
   "execution_count": 3,
   "metadata": {
    "ExecuteTime": {
     "end_time": "2019-07-05T00:37:43.454637Z",
     "start_time": "2019-07-05T00:37:43.449083Z"
    }
   },
   "outputs": [],
   "source": [
    "def load_data(path=\"./data/\"):\n",
    "    features = np.load(path+'fea.npy')\n",
    "    adj = np.load(path+'adj.npy')\n",
    "    props = np.load(path+'prop.npy')\n",
    "    return features, adj, props"
   ]
  },
  {
   "cell_type": "code",
   "execution_count": 4,
   "metadata": {
    "ExecuteTime": {
     "end_time": "2019-07-05T00:37:43.500712Z",
     "start_time": "2019-07-05T00:37:43.456893Z"
    }
   },
   "outputs": [],
   "source": [
    "features, adj, props = load_data()"
   ]
  },
  {
   "cell_type": "code",
   "execution_count": 5,
   "metadata": {
    "ExecuteTime": {
     "end_time": "2019-07-05T00:37:43.508485Z",
     "start_time": "2019-07-05T00:37:43.502930Z"
    }
   },
   "outputs": [
    {
     "name": "stdout",
     "output_type": "stream",
     "text": [
      "features shape:  (1000, 50, 58) \n",
      " adj shape:  (1000, 50, 50) \n",
      " props shape:  (1000,)\n"
     ]
    }
   ],
   "source": [
    "print(\"features shape: \", features.shape, \"\\n\", \"adj shape: \", adj.shape, \"\\n\", \"props shape: \", props.shape)"
   ]
  },
  {
   "cell_type": "code",
   "execution_count": 6,
   "metadata": {
    "ExecuteTime": {
     "end_time": "2019-07-05T00:37:43.526303Z",
     "start_time": "2019-07-05T00:37:43.511503Z"
    }
   },
   "outputs": [],
   "source": [
    "class GCN(keras.layers.Layer):\n",
    "    def __init__(self, output_dim):\n",
    "        self.output_dim = output_dim\n",
    "        super(GCN, self).__init__()\n",
    "\n",
    "    def build(self, input_shape):\n",
    "        self.built = True\n",
    "        shape = tf.TensorShape((input_shape[0][2], self.output_dim)).as_list()  # [58 , 32]\n",
    "\n",
    "        with K.name_scope('Parameters'):\n",
    "            with K.name_scope('Weight_' + str(shape[1])):\n",
    "                self.kernel = self.add_weight(name='conv_weight',\n",
    "                                              shape=shape,\n",
    "                                              initializer='glorot_uniform',\n",
    "                                              trainable=True)\n",
    "\n",
    "            with K.name_scope('Bias_' + str(shape[1])):\n",
    "                self.bias = self.add_weight(name='conv_bias',\n",
    "                                            shape=(shape[1],),\n",
    "                                            initializer='glorot_uniform',\n",
    "                                            trainable=True)\n",
    "    def call(self, inputs):\n",
    "        X, A = inputs[0], inputs[1]\n",
    "        with K.name_scope('Prop.Rule_' + str(X.get_shape()[2])):\n",
    "            b = tf.reshape(tf.tile(self.bias, [X.get_shape()[1]]), [X.get_shape()[1], self.output_dim])\n",
    "            output = tf.einsum('ijk,kl->ijl', X, self.kernel) + b\n",
    "            return output\n",
    "\n",
    "    def compute_output_shape(self, input_shape):\n",
    "        return input_shape[0][0], input_shape[0][1], self.output_dim"
   ]
  },
  {
   "cell_type": "code",
   "execution_count": 7,
   "metadata": {
    "ExecuteTime": {
     "end_time": "2019-07-05T00:37:43.537225Z",
     "start_time": "2019-07-05T00:37:43.528267Z"
    }
   },
   "outputs": [],
   "source": [
    "class G2N(keras.layers.Layer):\n",
    "    def __init__(self, output_dim):\n",
    "        self.output_dim = output_dim\n",
    "        super(G2N, self).__init__()\n",
    "\n",
    "    def build(self, input_shape):\n",
    "        shape = tf.TensorShape((input_shape[2], self.output_dim)).as_list()\n",
    "\n",
    "        with K.name_scope('Parameters'):\n",
    "            with K.name_scope('Weight' + str(shape[1])):\n",
    "                self.kernel = self.add_weight(name='permu_weight',\n",
    "                                              shape=shape,\n",
    "                                              initializer='glorot_uniform',\n",
    "                                              trainable=True)\n",
    "        self.built = True\n",
    "\n",
    "    def call(self, X):\n",
    "        with K.name_scope('ATOMWISE'):\n",
    "            Z = tf.einsum('ijk,kl->ijl', X, self.kernel)\n",
    "            Z = K.relu(Z)\n",
    "            Z = K.sigmoid(K.sum(Z, axis=1))\n",
    "            return Z\n",
    "\n",
    "    def compute_output_shape(self, input_shape):\n",
    "        return input_shape[0], self.output_dim"
   ]
  },
  {
   "cell_type": "code",
   "execution_count": 8,
   "metadata": {
    "ExecuteTime": {
     "end_time": "2019-07-05T00:37:43.554069Z",
     "start_time": "2019-07-05T00:37:43.539956Z"
    }
   },
   "outputs": [],
   "source": [
    "def build_model():\n",
    "    X = keras.layers.Input(shape=(50, 58))\n",
    "    A = keras.layers.Input(shape=(50, 50))\n",
    "\n",
    "    with K.name_scope('graph_conv-1.{}'.format(X.get_shape()[2])):\n",
    "        gcn1 = GCN(32)\n",
    "        x = keras.layers.ReLU()(gcn1([X, A]))\n",
    "    with K.name_scope('graph_conv-2.{}'.format(x.get_shape()[2])):\n",
    "        gcn2 = GCN(32)\n",
    "        x = keras.layers.ReLU()(gcn2([x, A]))\n",
    "    with K.name_scope('Perm-Invariance'):\n",
    "        g2n = G2N(64)\n",
    "        x = keras.layers.ReLU()(g2n(x))\n",
    "    with K.name_scope('Latent_Space-64'):\n",
    "        x = keras.layers.Dense(64, activation=\"relu\")(x)\n",
    "    with K.name_scope('Latent_Space-64'):\n",
    "        x = keras.layers.Dense(64, activation=\"relu\")(x)\n",
    "    with K.name_scope('Output'):\n",
    "        output = keras.layers.Dense(1)(x)\n",
    "\n",
    "    model = keras.models.Model(inputs=[X, A], outputs=output)\n",
    "    return model\n"
   ]
  },
  {
   "cell_type": "code",
   "execution_count": 9,
   "metadata": {
    "ExecuteTime": {
     "end_time": "2019-07-05T00:37:43.759261Z",
     "start_time": "2019-07-05T00:37:43.556849Z"
    }
   },
   "outputs": [],
   "source": [
    "model = build_model()\n"
   ]
  },
  {
   "cell_type": "code",
   "execution_count": 10,
   "metadata": {
    "ExecuteTime": {
     "end_time": "2019-07-05T00:37:43.769332Z",
     "start_time": "2019-07-05T00:37:43.761480Z"
    }
   },
   "outputs": [
    {
     "name": "stdout",
     "output_type": "stream",
     "text": [
      "__________________________________________________________________________________________________\n",
      "Layer (type)                    Output Shape         Param #     Connected to                     \n",
      "==================================================================================================\n",
      "input_1 (InputLayer)            (None, 50, 58)       0                                            \n",
      "__________________________________________________________________________________________________\n",
      "input_2 (InputLayer)            (None, 50, 50)       0                                            \n",
      "__________________________________________________________________________________________________\n",
      "gcn (GCN)                       (None, 50, 32)       1888        input_1[0][0]                    \n",
      "                                                                 input_2[0][0]                    \n",
      "__________________________________________________________________________________________________\n",
      "re_lu (ReLU)                    (None, 50, 32)       0           gcn[0][0]                        \n",
      "__________________________________________________________________________________________________\n",
      "gcn_1 (GCN)                     (None, 50, 32)       1056        re_lu[0][0]                      \n",
      "                                                                 input_2[0][0]                    \n",
      "__________________________________________________________________________________________________\n",
      "re_lu_1 (ReLU)                  (None, 50, 32)       0           gcn_1[0][0]                      \n",
      "__________________________________________________________________________________________________\n",
      "g2n (G2N)                       (None, 64)           2048        re_lu_1[0][0]                    \n",
      "__________________________________________________________________________________________________\n",
      "re_lu_2 (ReLU)                  (None, 64)           0           g2n[0][0]                        \n",
      "__________________________________________________________________________________________________\n",
      "dense (Dense)                   (None, 64)           4160        re_lu_2[0][0]                    \n",
      "__________________________________________________________________________________________________\n",
      "dense_1 (Dense)                 (None, 64)           4160        dense[0][0]                      \n",
      "__________________________________________________________________________________________________\n",
      "dense_2 (Dense)                 (None, 1)            65          dense_1[0][0]                    \n",
      "==================================================================================================\n",
      "Total params: 13,377\n",
      "Trainable params: 13,377\n",
      "Non-trainable params: 0\n",
      "__________________________________________________________________________________________________\n"
     ]
    }
   ],
   "source": [
    "model.summary()\n"
   ]
  },
  {
   "cell_type": "code",
   "execution_count": 11,
   "metadata": {
    "ExecuteTime": {
     "end_time": "2019-07-05T00:37:43.797738Z",
     "start_time": "2019-07-05T00:37:43.771344Z"
    }
   },
   "outputs": [],
   "source": [
    "lr = 0.001\n",
    "tensorboard = keras.callbacks.TensorBoard(log_dir=\"./summaries/ADAM-0.001\",histogram_freq=10,batch_size=100, \n",
    "                          write_graph=True, write_grads=True)\n",
    "optimizer = keras.optimizers.Adam(lr)\n"
   ]
  },
  {
   "cell_type": "code",
   "execution_count": 12,
   "metadata": {
    "ExecuteTime": {
     "end_time": "2019-07-05T00:37:43.884203Z",
     "start_time": "2019-07-05T00:37:43.799770Z"
    }
   },
   "outputs": [],
   "source": [
    "model.compile(loss='mean_squared_error',\n",
    "              optimizer=optimizer,\n",
    "              metrics=['mean_absolute_error', 'mean_squared_error'])\n"
   ]
  },
  {
   "cell_type": "code",
   "execution_count": 13,
   "metadata": {
    "ExecuteTime": {
     "end_time": "2019-07-05T00:39:57.958304Z",
     "start_time": "2019-07-05T00:37:43.886281Z"
    }
   },
   "outputs": [],
   "source": [
    "history = model.fit(x=[features, adj], y=props, batch_size=100, \n",
    "                    epochs=1000, validation_split=0.1, verbose=0,\n",
    "                    callbacks=[tensorboard])"
   ]
  },
  {
   "cell_type": "code",
   "execution_count": 18,
   "metadata": {
    "ExecuteTime": {
     "end_time": "2019-07-05T00:40:58.890979Z",
     "start_time": "2019-07-05T00:40:58.883264Z"
    }
   },
   "outputs": [],
   "source": [
    "K.clear_session()"
   ]
  },
  {
   "cell_type": "code",
   "execution_count": 14,
   "metadata": {
    "ExecuteTime": {
     "end_time": "2019-07-05T00:39:57.966116Z",
     "start_time": "2019-07-05T00:39:57.962315Z"
    }
   },
   "outputs": [],
   "source": [
    "## Test with SGD optimizer"
   ]
  },
  {
   "cell_type": "code",
   "execution_count": 19,
   "metadata": {
    "ExecuteTime": {
     "end_time": "2019-07-05T00:41:01.321783Z",
     "start_time": "2019-07-05T00:41:01.078781Z"
    }
   },
   "outputs": [],
   "source": [
    "lr = 0.001\n",
    "model = build_model()\n",
    "tensorboard = keras.callbacks.TensorBoard(log_dir=\"./summaries/SGD-0.001\",histogram_freq=10,batch_size=100, \n",
    "                          write_graph=True, write_grads=True)\n",
    "optimizer = keras.optimizers.SGD(lr)\n",
    "model.compile(loss='mean_squared_error',\n",
    "              optimizer=optimizer,\n",
    "              metrics=['mean_absolute_error', 'mean_squared_error'])"
   ]
  },
  {
   "cell_type": "code",
   "execution_count": 20,
   "metadata": {
    "ExecuteTime": {
     "end_time": "2019-07-05T00:41:02.115199Z",
     "start_time": "2019-07-05T00:41:02.101518Z"
    }
   },
   "outputs": [
    {
     "name": "stdout",
     "output_type": "stream",
     "text": [
      "__________________________________________________________________________________________________\n",
      "Layer (type)                    Output Shape         Param #     Connected to                     \n",
      "==================================================================================================\n",
      "input_1 (InputLayer)            (None, 50, 58)       0                                            \n",
      "__________________________________________________________________________________________________\n",
      "input_2 (InputLayer)            (None, 50, 50)       0                                            \n",
      "__________________________________________________________________________________________________\n",
      "gcn (GCN)                       (None, 50, 32)       1888        input_1[0][0]                    \n",
      "                                                                 input_2[0][0]                    \n",
      "__________________________________________________________________________________________________\n",
      "re_lu (ReLU)                    (None, 50, 32)       0           gcn[0][0]                        \n",
      "__________________________________________________________________________________________________\n",
      "gcn_1 (GCN)                     (None, 50, 32)       1056        re_lu[0][0]                      \n",
      "                                                                 input_2[0][0]                    \n",
      "__________________________________________________________________________________________________\n",
      "re_lu_1 (ReLU)                  (None, 50, 32)       0           gcn_1[0][0]                      \n",
      "__________________________________________________________________________________________________\n",
      "g2n (G2N)                       (None, 64)           2048        re_lu_1[0][0]                    \n",
      "__________________________________________________________________________________________________\n",
      "re_lu_2 (ReLU)                  (None, 64)           0           g2n[0][0]                        \n",
      "__________________________________________________________________________________________________\n",
      "dense (Dense)                   (None, 64)           4160        re_lu_2[0][0]                    \n",
      "__________________________________________________________________________________________________\n",
      "dense_1 (Dense)                 (None, 64)           4160        dense[0][0]                      \n",
      "__________________________________________________________________________________________________\n",
      "dense_2 (Dense)                 (None, 1)            65          dense_1[0][0]                    \n",
      "==================================================================================================\n",
      "Total params: 13,377\n",
      "Trainable params: 13,377\n",
      "Non-trainable params: 0\n",
      "__________________________________________________________________________________________________\n"
     ]
    }
   ],
   "source": [
    "model.summary()"
   ]
  },
  {
   "cell_type": "code",
   "execution_count": 21,
   "metadata": {
    "ExecuteTime": {
     "end_time": "2019-07-05T00:42:57.096343Z",
     "start_time": "2019-07-05T00:41:03.151150Z"
    }
   },
   "outputs": [],
   "source": [
    "history = model.fit(x=[features, adj], y=props, batch_size=100, \n",
    "                    epochs=1000, validation_split=0.1, verbose=0,\n",
    "                    callbacks=[tensorboard])"
   ]
  },
  {
   "cell_type": "code",
   "execution_count": null,
   "metadata": {},
   "outputs": [],
   "source": []
  },
  {
   "cell_type": "code",
   "execution_count": 22,
   "metadata": {
    "ExecuteTime": {
     "end_time": "2019-07-05T00:46:43.836221Z",
     "start_time": "2019-07-05T00:44:38.349949Z"
    }
   },
   "outputs": [],
   "source": [
    "K.clear_session()\n",
    "lr = 0.001\n",
    "model = build_model()\n",
    "tensorboard = keras.callbacks.TensorBoard(log_dir=\"./summaries/RMS-0.001\",histogram_freq=10,batch_size=100, \n",
    "                          write_graph=True, write_grads=True)\n",
    "optimizer = keras.optimizers.RMSprop(lr)\n",
    "model.compile(loss='mean_squared_error',\n",
    "              optimizer=optimizer,\n",
    "              metrics=['mean_absolute_error', 'mean_squared_error'])\n",
    "\n",
    "history = model.fit(x=[features, adj], y=props, batch_size=100, \n",
    "                    epochs=1000, validation_split=0.1, verbose=0,\n",
    "                    callbacks=[tensorboard])"
   ]
  },
  {
   "cell_type": "code",
   "execution_count": null,
   "metadata": {},
   "outputs": [],
   "source": []
  }
 ],
 "metadata": {
  "kernelspec": {
   "display_name": "Python 3",
   "language": "python",
   "name": "python3"
  },
  "language_info": {
   "codemirror_mode": {
    "name": "ipython",
    "version": 3
   },
   "file_extension": ".py",
   "mimetype": "text/x-python",
   "name": "python",
   "nbconvert_exporter": "python",
   "pygments_lexer": "ipython3",
   "version": "3.5.6"
  },
  "toc": {
   "base_numbering": 1,
   "nav_menu": {},
   "number_sections": true,
   "sideBar": true,
   "skip_h1_title": false,
   "title_cell": "Table of Contents",
   "title_sidebar": "Contents",
   "toc_cell": false,
   "toc_position": {},
   "toc_section_display": true,
   "toc_window_display": false
  }
 },
 "nbformat": 4,
 "nbformat_minor": 2
}
